{
 "cells": [
  {
   "cell_type": "markdown",
   "metadata": {},
   "source": [
    "Shaymaa Hassan Aly"
   ]
  },
  {
   "cell_type": "markdown",
   "metadata": {},
   "source": [
    "<img src=\"thanos.jpg\">"
   ]
  },
  {
   "cell_type": "code",
   "execution_count": 1,
   "metadata": {},
   "outputs": [],
   "source": [
    "# import modules \n",
    "import random\n",
    "import os\n",
    "import string\n",
    "from datetime import time\n",
    "import time"
   ]
  },
  {
   "cell_type": "code",
   "execution_count": 2,
   "metadata": {},
   "outputs": [
    {
     "data": {
      "text/plain": [
       "['cover001.png',\n",
       " 'cover002.png',\n",
       " 'cover003.png',\n",
       " 'cover004.png',\n",
       " 'cover005.png',\n",
       " 'cover006.png',\n",
       " 'cover007.png',\n",
       " 'cover008.png',\n",
       " 'cover009.png',\n",
       " 'cover010.png',\n",
       " 'cover011.png',\n",
       " 'cover012.png',\n",
       " 'cover013.png',\n",
       " 'cover014.png',\n",
       " 'cover015.png',\n",
       " 'cover016.png',\n",
       " 'cover017.png',\n",
       " 'cover018.png',\n",
       " 'cover019.png',\n",
       " 'cover020.png',\n",
       " 'cover021.png',\n",
       " 'cover022.png',\n",
       " 'cover023.png',\n",
       " 'cover024.png',\n",
       " 'cover025.png',\n",
       " 'cover026.png',\n",
       " 'cover027.png',\n",
       " 'cover028.png',\n",
       " 'cover029.png',\n",
       " 'cover030.png',\n",
       " 'cover031.png',\n",
       " 'cover032.png',\n",
       " 'cover033.png',\n",
       " 'cover034.png',\n",
       " 'cover035.png',\n",
       " 'cover036.png',\n",
       " 'cover037.png',\n",
       " 'cover038.png',\n",
       " 'cover039.png',\n",
       " 'cover040.png',\n",
       " 'cover041.png',\n",
       " 'cover042.png',\n",
       " 'cover043.png',\n",
       " 'cover044.png',\n",
       " 'cover045.png',\n",
       " 'cover046.png',\n",
       " 'cover047.png',\n",
       " 'cover048.png',\n",
       " 'cover049.png',\n",
       " 'cover050.png']"
      ]
     },
     "execution_count": 2,
     "metadata": {},
     "output_type": "execute_result"
    }
   ],
   "source": [
    "# showing the universe\n",
    "os.listdir('universe')"
   ]
  },
  {
   "cell_type": "code",
   "execution_count": 3,
   "metadata": {},
   "outputs": [],
   "source": [
    "# function to show the universe\n",
    "def universe():\n",
    "    return os.listdir('universe')"
   ]
  },
  {
   "cell_type": "code",
   "execution_count": 4,
   "metadata": {},
   "outputs": [
    {
     "data": {
      "text/plain": [
       "['cover018.png',\n",
       " 'cover042.png',\n",
       " 'cover044.png',\n",
       " 'cover006.png',\n",
       " 'cover008.png',\n",
       " 'cover041.png',\n",
       " 'cover007.png',\n",
       " 'cover024.png',\n",
       " 'cover009.png',\n",
       " 'cover015.png',\n",
       " 'cover021.png',\n",
       " 'cover047.png',\n",
       " 'cover013.png',\n",
       " 'cover026.png',\n",
       " 'cover023.png',\n",
       " 'cover034.png',\n",
       " 'cover002.png',\n",
       " 'cover016.png',\n",
       " 'cover039.png',\n",
       " 'cover049.png',\n",
       " 'cover029.png',\n",
       " 'cover019.png',\n",
       " 'cover033.png',\n",
       " 'cover030.png',\n",
       " 'cover020.png',\n",
       " 'cover014.png',\n",
       " 'cover050.png',\n",
       " 'cover011.png',\n",
       " 'cover010.png',\n",
       " 'cover045.png',\n",
       " 'cover040.png',\n",
       " 'cover031.png',\n",
       " 'cover025.png',\n",
       " 'cover035.png',\n",
       " 'cover001.png',\n",
       " 'cover048.png',\n",
       " 'cover037.png',\n",
       " 'cover005.png',\n",
       " 'cover036.png',\n",
       " 'cover017.png',\n",
       " 'cover032.png',\n",
       " 'cover004.png',\n",
       " 'cover028.png',\n",
       " 'cover046.png',\n",
       " 'cover012.png',\n",
       " 'cover003.png',\n",
       " 'cover043.png',\n",
       " 'cover027.png',\n",
       " 'cover038.png',\n",
       " 'cover022.png']"
      ]
     },
     "execution_count": 4,
     "metadata": {},
     "output_type": "execute_result"
    }
   ],
   "source": [
    "images = os.listdir('universe')\n"
   ]
  },
  {
   "cell_type": "code",
   "execution_count": 5,
   "metadata": {},
   "outputs": [],
   "source": [
    "# function to create random names\n",
    "def random_names():\n",
    "    s=string.ascii_uppercase+string.ascii_lowercase # alphabet uppercase and lowercase to choose from it randomly\n",
    "    rand_names = []\n",
    "    for j in range(8):                  # for loop to create 8 random letters\n",
    "        letter=random.choice(s)         # choose a random letter to append it in random name to rename the images\n",
    "        rand_names.append(letter)       # append the random letter to the random_names \n",
    "    return ''.join(rand_names)+'.png'   # join the random letters from rand_names list and concatenate the 'png' extension"
   ]
  },
  {
   "cell_type": "code",
   "execution_count": 6,
   "metadata": {},
   "outputs": [],
   "source": [
    "# function to rename half of the images (half of the universe) randomly\n",
    "def rename_images():\n",
    "    new_universe = []\n",
    "    for i in range(len(images)//2):                    # range of half images \n",
    "        random_name = random_names()                   # calling the random_names function\n",
    "        \n",
    "        choose_image = random.choice(images)           # to choose a random image to rename\n",
    "        \n",
    "        os.rename('universe/'+choose_image,'universe/'+random_name)# rename the image has been chosen with a random name has been created\n",
    "        images.remove(choose_image)                    # remove the image that has been renamed from the images list to prevent rechoosing\n",
    "        new_universe.append(random_name)               # append the new name to new_universe list\n",
    "        print(f'{choose_image} has been renamed with {random_name}')\n",
    "        time.sleep(2)                                 # every rename after 2 seconds\n",
    "        \n",
    "    print(f'The new universe : {new_universe}')\n",
    "    print(f'The whole universe : {universe()}')\n"
   ]
  },
  {
   "cell_type": "code",
   "execution_count": 7,
   "metadata": {},
   "outputs": [
    {
     "name": "stdout",
     "output_type": "stream",
     "text": [
      "cover008.png has been renamed with sBmzJGvU.png\n",
      "cover021.png has been renamed with NnRuIYus.png\n",
      "cover022.png has been renamed with dqwkopsk.png\n",
      "cover007.png has been renamed with qmMuoVfB.png\n",
      "cover006.png has been renamed with myTUkGjZ.png\n",
      "cover005.png has been renamed with GMdDAatg.png\n",
      "cover010.png has been renamed with VPgpKRuM.png\n",
      "cover013.png has been renamed with nhGRYfOS.png\n",
      "cover048.png has been renamed with FLBdkuuE.png\n",
      "cover044.png has been renamed with MhcNKiTq.png\n",
      "cover027.png has been renamed with mapLAGeN.png\n",
      "cover041.png has been renamed with lUKsCAYa.png\n",
      "cover042.png has been renamed with eyjeLxDU.png\n",
      "cover011.png has been renamed with LEAjehdv.png\n",
      "cover039.png has been renamed with NRrxTZaR.png\n",
      "cover023.png has been renamed with ShIeorhW.png\n",
      "cover002.png has been renamed with OjjxIPFe.png\n",
      "cover049.png has been renamed with bqSDSYeT.png\n",
      "cover036.png has been renamed with wkpsUFTp.png\n",
      "cover037.png has been renamed with JVqpYGOm.png\n",
      "cover001.png has been renamed with aUwvCTxa.png\n",
      "cover025.png has been renamed with lBnDkixz.png\n",
      "cover045.png has been renamed with ttdtRekQ.png\n",
      "cover040.png has been renamed with atOmpaBj.png\n",
      "cover018.png has been renamed with qCYGAaWS.png\n",
      "The new universe : ['sBmzJGvU.png', 'NnRuIYus.png', 'dqwkopsk.png', 'qmMuoVfB.png', 'myTUkGjZ.png', 'GMdDAatg.png', 'VPgpKRuM.png', 'nhGRYfOS.png', 'FLBdkuuE.png', 'MhcNKiTq.png', 'mapLAGeN.png', 'lUKsCAYa.png', 'eyjeLxDU.png', 'LEAjehdv.png', 'NRrxTZaR.png', 'ShIeorhW.png', 'OjjxIPFe.png', 'bqSDSYeT.png', 'wkpsUFTp.png', 'JVqpYGOm.png', 'aUwvCTxa.png', 'lBnDkixz.png', 'ttdtRekQ.png', 'atOmpaBj.png', 'qCYGAaWS.png']\n",
      "The whole universe : ['atOmpaBj.png', 'aUwvCTxa.png', 'bqSDSYeT.png', 'cover003.png', 'cover004.png', 'cover009.png', 'cover012.png', 'cover014.png', 'cover015.png', 'cover016.png', 'cover017.png', 'cover019.png', 'cover020.png', 'cover024.png', 'cover026.png', 'cover028.png', 'cover029.png', 'cover030.png', 'cover031.png', 'cover032.png', 'cover033.png', 'cover034.png', 'cover035.png', 'cover038.png', 'cover043.png', 'cover046.png', 'cover047.png', 'cover050.png', 'dqwkopsk.png', 'eyjeLxDU.png', 'FLBdkuuE.png', 'GMdDAatg.png', 'JVqpYGOm.png', 'lBnDkixz.png', 'LEAjehdv.png', 'lUKsCAYa.png', 'mapLAGeN.png', 'MhcNKiTq.png', 'myTUkGjZ.png', 'nhGRYfOS.png', 'NnRuIYus.png', 'NRrxTZaR.png', 'OjjxIPFe.png', 'qCYGAaWS.png', 'qmMuoVfB.png', 'sBmzJGvU.png', 'ShIeorhW.png', 'ttdtRekQ.png', 'VPgpKRuM.png', 'wkpsUFTp.png']\n"
     ]
    }
   ],
   "source": [
    "# calling the function to rename half of the universe randomly every time calling it\n",
    "rename_images() "
   ]
  },
  {
   "cell_type": "code",
   "execution_count": 8,
   "metadata": {},
   "outputs": [
    {
     "name": "stdout",
     "output_type": "stream",
     "text": [
      "cover033.png has been renamed with vuccXoTr.png\n",
      "cover029.png has been renamed with INBOjKOL.png\n",
      "cover014.png has been renamed with gkDCvNvw.png\n",
      "cover043.png has been renamed with ptdlIdJV.png\n",
      "cover031.png has been renamed with KfAzSUrD.png\n",
      "cover032.png has been renamed with VOFNmEvA.png\n",
      "cover034.png has been renamed with cXzJQnyX.png\n",
      "cover020.png has been renamed with nazMyXuM.png\n",
      "cover047.png has been renamed with zrUgISHU.png\n",
      "cover028.png has been renamed with suTNtUhF.png\n",
      "cover016.png has been renamed with keBQDMxu.png\n",
      "cover019.png has been renamed with twluHwhv.png\n",
      "The new universe : ['vuccXoTr.png', 'INBOjKOL.png', 'gkDCvNvw.png', 'ptdlIdJV.png', 'KfAzSUrD.png', 'VOFNmEvA.png', 'cXzJQnyX.png', 'nazMyXuM.png', 'zrUgISHU.png', 'suTNtUhF.png', 'keBQDMxu.png', 'twluHwhv.png']\n",
      "The whole universe : ['atOmpaBj.png', 'aUwvCTxa.png', 'bqSDSYeT.png', 'cover003.png', 'cover004.png', 'cover009.png', 'cover012.png', 'cover015.png', 'cover017.png', 'cover024.png', 'cover026.png', 'cover030.png', 'cover035.png', 'cover038.png', 'cover046.png', 'cover050.png', 'cXzJQnyX.png', 'dqwkopsk.png', 'eyjeLxDU.png', 'FLBdkuuE.png', 'gkDCvNvw.png', 'GMdDAatg.png', 'INBOjKOL.png', 'JVqpYGOm.png', 'keBQDMxu.png', 'KfAzSUrD.png', 'lBnDkixz.png', 'LEAjehdv.png', 'lUKsCAYa.png', 'mapLAGeN.png', 'MhcNKiTq.png', 'myTUkGjZ.png', 'nazMyXuM.png', 'nhGRYfOS.png', 'NnRuIYus.png', 'NRrxTZaR.png', 'OjjxIPFe.png', 'ptdlIdJV.png', 'qCYGAaWS.png', 'qmMuoVfB.png', 'sBmzJGvU.png', 'ShIeorhW.png', 'suTNtUhF.png', 'ttdtRekQ.png', 'twluHwhv.png', 'VOFNmEvA.png', 'VPgpKRuM.png', 'vuccXoTr.png', 'wkpsUFTp.png', 'zrUgISHU.png']\n"
     ]
    }
   ],
   "source": [
    "rename_images() "
   ]
  },
  {
   "cell_type": "code",
   "execution_count": 9,
   "metadata": {},
   "outputs": [
    {
     "name": "stdout",
     "output_type": "stream",
     "text": [
      "cover012.png has been renamed with tWweajSL.png\n",
      "cover017.png has been renamed with qApjYzac.png\n",
      "cover015.png has been renamed with NTeUfKKQ.png\n",
      "cover046.png has been renamed with FJCQslUJ.png\n",
      "cover038.png has been renamed with OXhPCrlv.png\n",
      "cover030.png has been renamed with oCgViaUd.png\n",
      "The new universe : ['tWweajSL.png', 'qApjYzac.png', 'NTeUfKKQ.png', 'FJCQslUJ.png', 'OXhPCrlv.png', 'oCgViaUd.png']\n",
      "The whole universe : ['atOmpaBj.png', 'aUwvCTxa.png', 'bqSDSYeT.png', 'cover003.png', 'cover004.png', 'cover009.png', 'cover024.png', 'cover026.png', 'cover035.png', 'cover050.png', 'cXzJQnyX.png', 'dqwkopsk.png', 'eyjeLxDU.png', 'FJCQslUJ.png', 'FLBdkuuE.png', 'gkDCvNvw.png', 'GMdDAatg.png', 'INBOjKOL.png', 'JVqpYGOm.png', 'keBQDMxu.png', 'KfAzSUrD.png', 'lBnDkixz.png', 'LEAjehdv.png', 'lUKsCAYa.png', 'mapLAGeN.png', 'MhcNKiTq.png', 'myTUkGjZ.png', 'nazMyXuM.png', 'nhGRYfOS.png', 'NnRuIYus.png', 'NRrxTZaR.png', 'NTeUfKKQ.png', 'oCgViaUd.png', 'OjjxIPFe.png', 'OXhPCrlv.png', 'ptdlIdJV.png', 'qApjYzac.png', 'qCYGAaWS.png', 'qmMuoVfB.png', 'sBmzJGvU.png', 'ShIeorhW.png', 'suTNtUhF.png', 'ttdtRekQ.png', 'twluHwhv.png', 'tWweajSL.png', 'VOFNmEvA.png', 'VPgpKRuM.png', 'vuccXoTr.png', 'wkpsUFTp.png', 'zrUgISHU.png']\n"
     ]
    }
   ],
   "source": [
    "rename_images() "
   ]
  },
  {
   "cell_type": "code",
   "execution_count": 10,
   "metadata": {},
   "outputs": [
    {
     "name": "stdout",
     "output_type": "stream",
     "text": [
      "cover035.png has been renamed with oTuzemfI.png\n",
      "cover050.png has been renamed with EryzHYQz.png\n",
      "cover009.png has been renamed with STSrSOTT.png\n",
      "The new universe : ['oTuzemfI.png', 'EryzHYQz.png', 'STSrSOTT.png']\n",
      "The whole universe : ['atOmpaBj.png', 'aUwvCTxa.png', 'bqSDSYeT.png', 'cover003.png', 'cover004.png', 'cover024.png', 'cover026.png', 'cXzJQnyX.png', 'dqwkopsk.png', 'EryzHYQz.png', 'eyjeLxDU.png', 'FJCQslUJ.png', 'FLBdkuuE.png', 'gkDCvNvw.png', 'GMdDAatg.png', 'INBOjKOL.png', 'JVqpYGOm.png', 'keBQDMxu.png', 'KfAzSUrD.png', 'lBnDkixz.png', 'LEAjehdv.png', 'lUKsCAYa.png', 'mapLAGeN.png', 'MhcNKiTq.png', 'myTUkGjZ.png', 'nazMyXuM.png', 'nhGRYfOS.png', 'NnRuIYus.png', 'NRrxTZaR.png', 'NTeUfKKQ.png', 'oCgViaUd.png', 'OjjxIPFe.png', 'oTuzemfI.png', 'OXhPCrlv.png', 'ptdlIdJV.png', 'qApjYzac.png', 'qCYGAaWS.png', 'qmMuoVfB.png', 'sBmzJGvU.png', 'ShIeorhW.png', 'STSrSOTT.png', 'suTNtUhF.png', 'ttdtRekQ.png', 'twluHwhv.png', 'tWweajSL.png', 'VOFNmEvA.png', 'VPgpKRuM.png', 'vuccXoTr.png', 'wkpsUFTp.png', 'zrUgISHU.png']\n"
     ]
    }
   ],
   "source": [
    "rename_images() "
   ]
  },
  {
   "cell_type": "code",
   "execution_count": 11,
   "metadata": {},
   "outputs": [
    {
     "name": "stdout",
     "output_type": "stream",
     "text": [
      "cover026.png has been renamed with UvzLBnbv.png\n",
      "cover003.png has been renamed with fAGFIPkL.png\n",
      "The new universe : ['UvzLBnbv.png', 'fAGFIPkL.png']\n",
      "The whole universe : ['atOmpaBj.png', 'aUwvCTxa.png', 'bqSDSYeT.png', 'cover004.png', 'cover024.png', 'cXzJQnyX.png', 'dqwkopsk.png', 'EryzHYQz.png', 'eyjeLxDU.png', 'fAGFIPkL.png', 'FJCQslUJ.png', 'FLBdkuuE.png', 'gkDCvNvw.png', 'GMdDAatg.png', 'INBOjKOL.png', 'JVqpYGOm.png', 'keBQDMxu.png', 'KfAzSUrD.png', 'lBnDkixz.png', 'LEAjehdv.png', 'lUKsCAYa.png', 'mapLAGeN.png', 'MhcNKiTq.png', 'myTUkGjZ.png', 'nazMyXuM.png', 'nhGRYfOS.png', 'NnRuIYus.png', 'NRrxTZaR.png', 'NTeUfKKQ.png', 'oCgViaUd.png', 'OjjxIPFe.png', 'oTuzemfI.png', 'OXhPCrlv.png', 'ptdlIdJV.png', 'qApjYzac.png', 'qCYGAaWS.png', 'qmMuoVfB.png', 'sBmzJGvU.png', 'ShIeorhW.png', 'STSrSOTT.png', 'suTNtUhF.png', 'ttdtRekQ.png', 'twluHwhv.png', 'tWweajSL.png', 'UvzLBnbv.png', 'VOFNmEvA.png', 'VPgpKRuM.png', 'vuccXoTr.png', 'wkpsUFTp.png', 'zrUgISHU.png']\n"
     ]
    }
   ],
   "source": [
    "rename_images() "
   ]
  },
  {
   "cell_type": "code",
   "execution_count": 12,
   "metadata": {},
   "outputs": [
    {
     "name": "stdout",
     "output_type": "stream",
     "text": [
      "cover024.png has been renamed with qblTEGKl.png\n",
      "The new universe : ['qblTEGKl.png']\n",
      "The whole universe : ['atOmpaBj.png', 'aUwvCTxa.png', 'bqSDSYeT.png', 'cover004.png', 'cXzJQnyX.png', 'dqwkopsk.png', 'EryzHYQz.png', 'eyjeLxDU.png', 'fAGFIPkL.png', 'FJCQslUJ.png', 'FLBdkuuE.png', 'gkDCvNvw.png', 'GMdDAatg.png', 'INBOjKOL.png', 'JVqpYGOm.png', 'keBQDMxu.png', 'KfAzSUrD.png', 'lBnDkixz.png', 'LEAjehdv.png', 'lUKsCAYa.png', 'mapLAGeN.png', 'MhcNKiTq.png', 'myTUkGjZ.png', 'nazMyXuM.png', 'nhGRYfOS.png', 'NnRuIYus.png', 'NRrxTZaR.png', 'NTeUfKKQ.png', 'oCgViaUd.png', 'OjjxIPFe.png', 'oTuzemfI.png', 'OXhPCrlv.png', 'ptdlIdJV.png', 'qApjYzac.png', 'qblTEGKl.png', 'qCYGAaWS.png', 'qmMuoVfB.png', 'sBmzJGvU.png', 'ShIeorhW.png', 'STSrSOTT.png', 'suTNtUhF.png', 'ttdtRekQ.png', 'twluHwhv.png', 'tWweajSL.png', 'UvzLBnbv.png', 'VOFNmEvA.png', 'VPgpKRuM.png', 'vuccXoTr.png', 'wkpsUFTp.png', 'zrUgISHU.png']\n"
     ]
    }
   ],
   "source": [
    "rename_images() "
   ]
  },
  {
   "cell_type": "code",
   "execution_count": 13,
   "metadata": {},
   "outputs": [
    {
     "name": "stdout",
     "output_type": "stream",
     "text": [
      "The new universe : []\n",
      "The whole universe : ['atOmpaBj.png', 'aUwvCTxa.png', 'bqSDSYeT.png', 'cover004.png', 'cXzJQnyX.png', 'dqwkopsk.png', 'EryzHYQz.png', 'eyjeLxDU.png', 'fAGFIPkL.png', 'FJCQslUJ.png', 'FLBdkuuE.png', 'gkDCvNvw.png', 'GMdDAatg.png', 'INBOjKOL.png', 'JVqpYGOm.png', 'keBQDMxu.png', 'KfAzSUrD.png', 'lBnDkixz.png', 'LEAjehdv.png', 'lUKsCAYa.png', 'mapLAGeN.png', 'MhcNKiTq.png', 'myTUkGjZ.png', 'nazMyXuM.png', 'nhGRYfOS.png', 'NnRuIYus.png', 'NRrxTZaR.png', 'NTeUfKKQ.png', 'oCgViaUd.png', 'OjjxIPFe.png', 'oTuzemfI.png', 'OXhPCrlv.png', 'ptdlIdJV.png', 'qApjYzac.png', 'qblTEGKl.png', 'qCYGAaWS.png', 'qmMuoVfB.png', 'sBmzJGvU.png', 'ShIeorhW.png', 'STSrSOTT.png', 'suTNtUhF.png', 'ttdtRekQ.png', 'twluHwhv.png', 'tWweajSL.png', 'UvzLBnbv.png', 'VOFNmEvA.png', 'VPgpKRuM.png', 'vuccXoTr.png', 'wkpsUFTp.png', 'zrUgISHU.png']\n"
     ]
    }
   ],
   "source": [
    "rename_images() "
   ]
  },
  {
   "cell_type": "code",
   "execution_count": 14,
   "metadata": {},
   "outputs": [
    {
     "name": "stdout",
     "output_type": "stream",
     "text": [
      "The new universe : []\n",
      "The whole universe : ['atOmpaBj.png', 'aUwvCTxa.png', 'bqSDSYeT.png', 'cover004.png', 'cXzJQnyX.png', 'dqwkopsk.png', 'EryzHYQz.png', 'eyjeLxDU.png', 'fAGFIPkL.png', 'FJCQslUJ.png', 'FLBdkuuE.png', 'gkDCvNvw.png', 'GMdDAatg.png', 'INBOjKOL.png', 'JVqpYGOm.png', 'keBQDMxu.png', 'KfAzSUrD.png', 'lBnDkixz.png', 'LEAjehdv.png', 'lUKsCAYa.png', 'mapLAGeN.png', 'MhcNKiTq.png', 'myTUkGjZ.png', 'nazMyXuM.png', 'nhGRYfOS.png', 'NnRuIYus.png', 'NRrxTZaR.png', 'NTeUfKKQ.png', 'oCgViaUd.png', 'OjjxIPFe.png', 'oTuzemfI.png', 'OXhPCrlv.png', 'ptdlIdJV.png', 'qApjYzac.png', 'qblTEGKl.png', 'qCYGAaWS.png', 'qmMuoVfB.png', 'sBmzJGvU.png', 'ShIeorhW.png', 'STSrSOTT.png', 'suTNtUhF.png', 'ttdtRekQ.png', 'twluHwhv.png', 'tWweajSL.png', 'UvzLBnbv.png', 'VOFNmEvA.png', 'VPgpKRuM.png', 'vuccXoTr.png', 'wkpsUFTp.png', 'zrUgISHU.png']\n"
     ]
    }
   ],
   "source": [
    "rename_images() "
   ]
  },
  {
   "cell_type": "code",
   "execution_count": null,
   "metadata": {},
   "outputs": [],
   "source": []
  }
 ],
 "metadata": {
  "kernelspec": {
   "display_name": "Python 3",
   "language": "python",
   "name": "python3"
  },
  "language_info": {
   "codemirror_mode": {
    "name": "ipython",
    "version": 3
   },
   "file_extension": ".py",
   "mimetype": "text/x-python",
   "name": "python",
   "nbconvert_exporter": "python",
   "pygments_lexer": "ipython3",
   "version": "3.10.0 (tags/v3.10.0:b494f59, Oct  4 2021, 19:00:18) [MSC v.1929 64 bit (AMD64)]"
  },
  "vscode": {
   "interpreter": {
    "hash": "04a584e6b017ed7521a0f7860682a88c1e1b00fd54ac61ac96bb306288abbd91"
   }
  }
 },
 "nbformat": 4,
 "nbformat_minor": 2
}
